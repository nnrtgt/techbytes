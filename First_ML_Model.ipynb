{
  "nbformat": 4,
  "nbformat_minor": 0,
  "metadata": {
    "colab": {
      "name": "First ML Model.ipynb",
      "provenance": [],
      "authorship_tag": "ABX9TyO5s4DC1F0BXwmcrDgSbnz0",
      "include_colab_link": true
    },
    "kernelspec": {
      "name": "python3",
      "display_name": "Python 3"
    }
  },
  "cells": [
    {
      "cell_type": "markdown",
      "metadata": {
        "id": "view-in-github",
        "colab_type": "text"
      },
      "source": [
        "<a href=\"https://colab.research.google.com/github/nnrtgt/techbytes/blob/main/First_ML_Model.ipynb\" target=\"_parent\"><img src=\"https://colab.research.google.com/assets/colab-badge.svg\" alt=\"Open In Colab\"/></a>"
      ]
    },
    {
      "cell_type": "code",
      "metadata": {
        "id": "XUVSN9QgX8VK"
      },
      "source": [
        "import tensorflow as tf\r\n",
        "import numpy as np\r\n",
        "from tensorflow import keras"
      ],
      "execution_count": 1,
      "outputs": []
    },
    {
      "cell_type": "code",
      "metadata": {
        "id": "QqS_cRvBYByZ"
      },
      "source": [
        "model = tf.keras.Sequential([keras.layers.Dense(units=1, input_shape=[1])])"
      ],
      "execution_count": 2,
      "outputs": []
    },
    {
      "cell_type": "code",
      "metadata": {
        "id": "sCKFe79eYagt"
      },
      "source": [
        "model.compile(optimizer='sgd', loss='mean_squared_error')"
      ],
      "execution_count": 3,
      "outputs": []
    },
    {
      "cell_type": "code",
      "metadata": {
        "id": "MVB0bO6eYgKZ"
      },
      "source": [
        "xs = np.array([-1.0, 0.0, 1.0, 2.0, 3.0, 4.0], dtype=float)\r\n",
        "ys = np.array([-2.0, 1.0, 4.0, 7.0, 10.0, 13.0], dtype=float)"
      ],
      "execution_count": 5,
      "outputs": []
    },
    {
      "cell_type": "code",
      "metadata": {
        "colab": {
          "base_uri": "https://localhost:8080/"
        },
        "id": "142XR3qJYhsv",
        "outputId": "ce4bd354-0b8a-495e-84ac-5450f16e13e0"
      },
      "source": [
        "model.fit(xs, ys, epochs=50)"
      ],
      "execution_count": 6,
      "outputs": [
        {
          "output_type": "stream",
          "text": [
            "Epoch 1/50\n",
            "1/1 [==============================] - 1s 527ms/step - loss: 54.4072\n",
            "Epoch 2/50\n",
            "1/1 [==============================] - 0s 7ms/step - loss: 42.8052\n",
            "Epoch 3/50\n",
            "1/1 [==============================] - 0s 4ms/step - loss: 33.6773\n",
            "Epoch 4/50\n",
            "1/1 [==============================] - 0s 5ms/step - loss: 26.4959\n",
            "Epoch 5/50\n",
            "1/1 [==============================] - 0s 4ms/step - loss: 20.8459\n",
            "Epoch 6/50\n",
            "1/1 [==============================] - 0s 6ms/step - loss: 16.4008\n",
            "Epoch 7/50\n",
            "1/1 [==============================] - 0s 5ms/step - loss: 12.9036\n",
            "Epoch 8/50\n",
            "1/1 [==============================] - 0s 5ms/step - loss: 10.1521\n",
            "Epoch 9/50\n",
            "1/1 [==============================] - 0s 6ms/step - loss: 7.9874\n",
            "Epoch 10/50\n",
            "1/1 [==============================] - 0s 4ms/step - loss: 6.2843\n",
            "Epoch 11/50\n",
            "1/1 [==============================] - 0s 4ms/step - loss: 4.9444\n",
            "Epoch 12/50\n",
            "1/1 [==============================] - 0s 5ms/step - loss: 3.8902\n",
            "Epoch 13/50\n",
            "1/1 [==============================] - 0s 4ms/step - loss: 3.0608\n",
            "Epoch 14/50\n",
            "1/1 [==============================] - 0s 5ms/step - loss: 2.4083\n",
            "Epoch 15/50\n",
            "1/1 [==============================] - 0s 4ms/step - loss: 1.8949\n",
            "Epoch 16/50\n",
            "1/1 [==============================] - 0s 4ms/step - loss: 1.4910\n",
            "Epoch 17/50\n",
            "1/1 [==============================] - 0s 4ms/step - loss: 1.1732\n",
            "Epoch 18/50\n",
            "1/1 [==============================] - 0s 4ms/step - loss: 0.9232\n",
            "Epoch 19/50\n",
            "1/1 [==============================] - 0s 4ms/step - loss: 0.7265\n",
            "Epoch 20/50\n",
            "1/1 [==============================] - 0s 4ms/step - loss: 0.5718\n",
            "Epoch 21/50\n",
            "1/1 [==============================] - 0s 4ms/step - loss: 0.4500\n",
            "Epoch 22/50\n",
            "1/1 [==============================] - 0s 4ms/step - loss: 0.3542\n",
            "Epoch 23/50\n",
            "1/1 [==============================] - 0s 4ms/step - loss: 0.2788\n",
            "Epoch 24/50\n",
            "1/1 [==============================] - 0s 5ms/step - loss: 0.2195\n",
            "Epoch 25/50\n",
            "1/1 [==============================] - 0s 4ms/step - loss: 0.1729\n",
            "Epoch 26/50\n",
            "1/1 [==============================] - 0s 4ms/step - loss: 0.1362\n",
            "Epoch 27/50\n",
            "1/1 [==============================] - 0s 4ms/step - loss: 0.1073\n",
            "Epoch 28/50\n",
            "1/1 [==============================] - 0s 4ms/step - loss: 0.0845\n",
            "Epoch 29/50\n",
            "1/1 [==============================] - 0s 4ms/step - loss: 0.0667\n",
            "Epoch 30/50\n",
            "1/1 [==============================] - 0s 3ms/step - loss: 0.0526\n",
            "Epoch 31/50\n",
            "1/1 [==============================] - 0s 4ms/step - loss: 0.0415\n",
            "Epoch 32/50\n",
            "1/1 [==============================] - 0s 4ms/step - loss: 0.0328\n",
            "Epoch 33/50\n",
            "1/1 [==============================] - 0s 4ms/step - loss: 0.0259\n",
            "Epoch 34/50\n",
            "1/1 [==============================] - 0s 4ms/step - loss: 0.0205\n",
            "Epoch 35/50\n",
            "1/1 [==============================] - 0s 4ms/step - loss: 0.0163\n",
            "Epoch 36/50\n",
            "1/1 [==============================] - 0s 4ms/step - loss: 0.0129\n",
            "Epoch 37/50\n",
            "1/1 [==============================] - 0s 5ms/step - loss: 0.0103\n",
            "Epoch 38/50\n",
            "1/1 [==============================] - 0s 4ms/step - loss: 0.0082\n",
            "Epoch 39/50\n",
            "1/1 [==============================] - 0s 4ms/step - loss: 0.0066\n",
            "Epoch 40/50\n",
            "1/1 [==============================] - 0s 4ms/step - loss: 0.0053\n",
            "Epoch 41/50\n",
            "1/1 [==============================] - 0s 6ms/step - loss: 0.0043\n",
            "Epoch 42/50\n",
            "1/1 [==============================] - 0s 5ms/step - loss: 0.0035\n",
            "Epoch 43/50\n",
            "1/1 [==============================] - 0s 5ms/step - loss: 0.0028\n",
            "Epoch 44/50\n",
            "1/1 [==============================] - 0s 6ms/step - loss: 0.0023\n",
            "Epoch 45/50\n",
            "1/1 [==============================] - 0s 5ms/step - loss: 0.0019\n",
            "Epoch 46/50\n",
            "1/1 [==============================] - 0s 4ms/step - loss: 0.0016\n",
            "Epoch 47/50\n",
            "1/1 [==============================] - 0s 5ms/step - loss: 0.0014\n",
            "Epoch 48/50\n",
            "1/1 [==============================] - 0s 7ms/step - loss: 0.0012\n",
            "Epoch 49/50\n",
            "1/1 [==============================] - 0s 4ms/step - loss: 0.0010\n",
            "Epoch 50/50\n",
            "1/1 [==============================] - 0s 5ms/step - loss: 8.9262e-04\n"
          ],
          "name": "stdout"
        },
        {
          "output_type": "execute_result",
          "data": {
            "text/plain": [
              "<tensorflow.python.keras.callbacks.History at 0x7fe98defb390>"
            ]
          },
          "metadata": {
            "tags": []
          },
          "execution_count": 6
        }
      ]
    },
    {
      "cell_type": "code",
      "metadata": {
        "colab": {
          "base_uri": "https://localhost:8080/"
        },
        "id": "HmW34hcjCYHw",
        "outputId": "6b86bd2c-db15-4ea5-8830-e3ef9cd287eb"
      },
      "source": [
        "print(model.predict([10.0]))"
      ],
      "execution_count": 7,
      "outputs": [
        {
          "output_type": "stream",
          "text": [
            "[[30.987013]]\n"
          ],
          "name": "stdout"
        }
      ]
    }
  ]
}